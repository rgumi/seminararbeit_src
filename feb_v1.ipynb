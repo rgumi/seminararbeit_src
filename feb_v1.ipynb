{
  "nbformat": 4,
  "nbformat_minor": 0,
  "metadata": {
    "colab": {
      "name": "feb-v1.ipynb",
      "provenance": [],
      "include_colab_link": true
    },
    "kernelspec": {
      "name": "python3",
      "display_name": "Python 3"
    }
  },
  "cells": [
    {
      "cell_type": "markdown",
      "metadata": {
        "id": "view-in-github",
        "colab_type": "text"
      },
      "source": [
        "<a href=\"https://colab.research.google.com/github/rgumi/seminararbeit_src/blob/master/feb_v1.ipynb\" target=\"_parent\"><img src=\"https://colab.research.google.com/assets/colab-badge.svg\" alt=\"Open In Colab\"/></a>"
      ]
    },
    {
      "cell_type": "code",
      "metadata": {
        "id": "oIo03i7VErog",
        "colab_type": "code",
        "colab": {}
      },
      "source": [
        "from scipy.stats import randint, uniform\n",
        "import datetime as dt\n",
        "import numpy as np\n",
        "import pandas as pd \n",
        "import json\n",
        "import urllib.request\n",
        "pd.options.mode.chained_assignment = None\n",
        "\n",
        "from sklearn.model_selection import train_test_split, cross_validate, RandomizedSearchCV, cross_val_score\n",
        "from sklearn.metrics import f1_score, make_scorer, confusion_matrix, accuracy_score, classification_report\n",
        "from sklearn.linear_model import LogisticRegression, SGDClassifier\n",
        "from sklearn.preprocessing import MinMaxScaler\n",
        "from xgboost.sklearn import XGBClassifier"
      ],
      "execution_count": 0,
      "outputs": []
    },
    {
      "cell_type": "code",
      "metadata": {
        "id": "JehFQQjKxDPF",
        "colab_type": "code",
        "outputId": "3a9bf31d-ca1e-413c-af11-417efe85bbfc",
        "colab": {
          "base_uri": "https://localhost:8080/",
          "height": 122
        }
      },
      "source": [
        "mountpath = \"/content/drive\"\n",
        "from google.colab import drive\n",
        "drive.mount(mountpath)"
      ],
      "execution_count": 2,
      "outputs": [
        {
          "output_type": "stream",
          "text": [
            "Go to this URL in a browser: https://accounts.google.com/o/oauth2/auth?client_id=947318989803-6bn6qk8qdgf4n4g3pfee6491hc0brc4i.apps.googleusercontent.com&redirect_uri=urn%3aietf%3awg%3aoauth%3a2.0%3aoob&response_type=code&scope=email%20https%3a%2f%2fwww.googleapis.com%2fauth%2fdocs.test%20https%3a%2f%2fwww.googleapis.com%2fauth%2fdrive%20https%3a%2f%2fwww.googleapis.com%2fauth%2fdrive.photos.readonly%20https%3a%2f%2fwww.googleapis.com%2fauth%2fpeopleapi.readonly\n",
            "\n",
            "Enter your authorization code:\n",
            "··········\n",
            "Mounted at /content/drive\n"
          ],
          "name": "stdout"
        }
      ]
    },
    {
      "cell_type": "code",
      "metadata": {
        "id": "V9rsfxVlpc1u",
        "colab_type": "code",
        "colab": {}
      },
      "source": [
        "# ['High School', 'University', 'Middle School', 'Professional Training', \n",
        "# 'Elementary School', 'Unknown', 'Illiterate']\n",
        "\n",
        "def group_education(education):\n",
        "  if education in ['Elementary School']:\n",
        "    return 'primary'\n",
        "  if education in ['Middle School', 'High School']:\n",
        "    return 'secondary'\n",
        "  if education in ['University', 'Professional Training']:\n",
        "    return 'tertiary'\n",
        "  return 'unknown'\n",
        "\n",
        "# ['Service provider', 'Student', 'Pensioner', 'Administrator', 'Technician',\n",
        "# 'Blue-collar worker', 'Self-employed', 'Unemployed', 'Manager', 'Housemaid', 'Founder', 'Unknown']\n",
        "\n",
        "def group_job(job):\n",
        "  if job in ['Service provider', 'Housemaid']:\n",
        "    return 'pink-collar worker'\n",
        "  if job in ['Blue-collar worker']:\n",
        "    return 'blue-collar worker'\n",
        "  if job in ['Administrator', 'Manager']:\n",
        "    return 'white-collar worker'\n",
        "  if job in ['Self-employed', 'Founder']:\n",
        "    return 'independent'\n",
        "  return str.lower(job)\n",
        "\n",
        "def group_p_conv(pconv):\n",
        "  if pconv == 'Successful':\n",
        "    return 1\n",
        "  if pconv == 'Failed':\n",
        "    return 2\n",
        "  return 3\n",
        "\n",
        "def group_age(age):\n",
        "  if age < 29:\n",
        "    return 2\n",
        "  if age < 59:\n",
        "    return 3\n",
        "  return 1\n",
        "\n",
        "def group_age_q(age):\n",
        "  if age < 30:\n",
        "    return 1\n",
        "  if age < 35:\n",
        "    return 2\n",
        "  if age < 42:\n",
        "    return 3\n",
        "  if age < 49:\n",
        "    return 4\n",
        "  return 5\n",
        "  \n",
        "def group_duration(duration):\n",
        "  if duration == 0:\n",
        "    return 5\n",
        "  if duration < 60:\n",
        "    return 4\n",
        "  if duration < 300:\n",
        "    return 3\n",
        "  if duration < 600:\n",
        "    return 2\n",
        "  return 1\n",
        "\n",
        "def group_martial_status(status):\n",
        "  if status == 'single':\n",
        "    return 1\n",
        "  if status == 'married':\n",
        "    return 2\n",
        "  if status == 'divorced':\n",
        "    return 3\n",
        "  return 4"
      ],
      "execution_count": 0,
      "outputs": []
    },
    {
      "cell_type": "code",
      "metadata": {
        "id": "hjf8i_m7vd3C",
        "colab_type": "code",
        "colab": {}
      },
      "source": [
        "df_euribor = pd.read_csv(\n",
        "    'https://raw.githubusercontent.com/rgumi/seminararbeit_src/master/refined/euribor3m_ref.csv', \n",
        "    index_col=['index'], parse_dates=['date'])\n",
        "\n",
        "df_euribor = df_euribor[(df_euribor['date'].dt.year >= 2007)]\n",
        "\n",
        "def get_euribor(date):\n",
        "  for i in range(0, len(df_euribor)):\n",
        "\n",
        "    if date >= df_euribor['date'].iloc[i]:\n",
        "      last = df_euribor['value'].iloc[i]\n",
        "      continue\n",
        "    return last"
      ],
      "execution_count": 0,
      "outputs": []
    },
    {
      "cell_type": "code",
      "metadata": {
        "id": "8a8uQAdvOVte",
        "colab_type": "code",
        "colab": {}
      },
      "source": [
        "df_eurostoxx= pd.read_csv(\n",
        "    'https://raw.githubusercontent.com/rgumi/seminararbeit_src/master/refined/eurostoxx_ref.csv', \n",
        "    index_col=['index'], parse_dates=['date'])\n",
        "\n",
        "df_eurostoxx = df_eurostoxx[(df_eurostoxx['date'].dt.year >= 2007)]\n",
        "\n",
        "def get_eurostoxx(date):\n",
        "  for i in range(0, len(df_eurostoxx)):\n",
        "\n",
        "    if date >= df_eurostoxx['date'].iloc[i]:\n",
        "      last = df_eurostoxx['value'].iloc[i]\n",
        "      continue\n",
        "    return last"
      ],
      "execution_count": 0,
      "outputs": []
    },
    {
      "cell_type": "code",
      "metadata": {
        "id": "JS4n-_a4OgdJ",
        "colab_type": "code",
        "colab": {}
      },
      "source": [
        "df_fsi= pd.read_csv(\n",
        "    'https://raw.githubusercontent.com/rgumi/seminararbeit_src/master/refined/fsi_ref.csv', \n",
        "    index_col=['index'], parse_dates=['Date'])\n",
        "\n",
        "df_fsi = df_fsi[(df_fsi['Date'].dt.year >= 2007)]\n",
        "\n",
        "def get_fsi(date):\n",
        "  for i in range(0, len(df_fsi)):\n",
        "\n",
        "    if date >= df_fsi['Date'].iloc[i]:\n",
        "      # Possible values: [OFR FSI, Credit, Equity valuation, Safe assets, Funding, Volatility]\n",
        "      last = df_fsi['OFR FSI'].iloc[i]\n",
        "      continue\n",
        "    return last"
      ],
      "execution_count": 0,
      "outputs": []
    },
    {
      "cell_type": "code",
      "metadata": {
        "id": "33cyR0R7Llxb",
        "colab_type": "code",
        "colab": {}
      },
      "source": [
        "df_cpi = pd.read_csv(\n",
        "    'https://raw.githubusercontent.com/rgumi/seminararbeit_src/master/refined/cpi_monthly_ref.csv', \n",
        "    index_col=['index'], parse_dates=['date'])\n",
        "\n",
        "df_cpi = df_cpi[(df_cpi['date'].dt.year >= 2007)]\n",
        "\n",
        "def get_cpi(date):\n",
        "  for i in range(0, len(df_cpi)):\n",
        "\n",
        "    if date >= df_cpi['date'].iloc[i]:\n",
        "      last = df_cpi['value'].iloc[i]\n",
        "      continue\n",
        "    return last"
      ],
      "execution_count": 0,
      "outputs": []
    },
    {
      "cell_type": "code",
      "metadata": {
        "id": "EgxhChjBLUCc",
        "colab_type": "code",
        "colab": {}
      },
      "source": [
        "df_cci = pd.read_csv(\n",
        "    'https://raw.githubusercontent.com/rgumi/seminararbeit_src/master/refined/cci_monthly_ref.csv', \n",
        "    index_col=['index'], parse_dates=['date'])\n",
        "\n",
        "df_cci = df_cci[(df_cci['date'].dt.year >= 2007)]\n",
        "\n",
        "def get_cci(date):\n",
        "  for i in range(0, len(df_cci)):\n",
        "\n",
        "    if date >= df_cci['date'].iloc[i]:\n",
        "      last = df_cci['value'].iloc[i]\n",
        "      continue\n",
        "      \n",
        "    return last"
      ],
      "execution_count": 0,
      "outputs": []
    },
    {
      "cell_type": "code",
      "metadata": {
        "id": "AYAngATPuYD4",
        "colab_type": "code",
        "colab": {}
      },
      "source": [
        "ltz = {}\n",
        "with urllib.request.urlopen(\"https://raw.githubusercontent.com/rgumi/seminararbeit_src/master/refined/leitzinsen_eu.json\") as url:\n",
        "    tmp_ltz = json.loads(url.read().decode())\n",
        "for key in tmp_ltz.keys():\n",
        "  ltz[dt.datetime.strptime(key, '%d-%m-%Y')] = tmp_ltz[key]\n",
        "sorted_ltz = {k: ltz[k] for k in sorted(ltz)}\n",
        "\n",
        "def get_leitzins(date):\n",
        "  for key, val in sorted_ltz.items():\n",
        "    if date >= key:\n",
        "      last = val\n",
        "      continue\n",
        "    return last"
      ],
      "execution_count": 0,
      "outputs": []
    },
    {
      "cell_type": "code",
      "metadata": {
        "id": "f8rRxxjwEm-M",
        "colab_type": "code",
        "colab": {
          "base_uri": "https://localhost:8080/",
          "height": 136
        },
        "outputId": "6b6e6856-59ea-46a8-ef2a-f81dbe93d7cd"
      },
      "source": [
        "dataset = pd.read_csv(\n",
        "    'https://raw.githubusercontent.com/saschaschworm/big-data-and-data-science/master/datasets/prediction-challenge/dataset.csv', \n",
        "    index_col='identifier', parse_dates=['date'])\n",
        "\n",
        "dataset.insert(len(dataset.columns) -1, \"weekday\", dataset.date.dt.weekday)\n",
        "dataset.insert(len(dataset.columns) -1, \"day\", dataset.date.dt.day)\n",
        "dataset.insert(len(dataset.columns) -1, \"month\", dataset.date.dt.month)\n",
        "dataset.insert(len(dataset.columns) -1, \"year\", dataset.date.dt.year)\n",
        "dataset.insert(len(dataset.columns) -1, \"quarter\", dataset.date.dt.quarter)\n",
        "\n",
        "dataset.insert(len(dataset.columns)-1, \"leitzins\", dataset['date'].apply(get_leitzins))\n",
        "dataset.insert(len(dataset.columns)-1, \"euribor\", dataset['date'].apply(get_euribor))\n",
        "dataset.insert(len(dataset.columns)-1, \"cci\", dataset['date'].apply(get_cci))\n",
        "dataset.insert(len(dataset.columns)-1, \"cpi\", dataset['date'].apply(get_cpi))\n",
        "dataset.insert(len(dataset.columns)-1, \"fsi\", dataset['date'].apply(get_fsi))\n",
        "dataset.insert(len(dataset.columns)-1, \"eurostoxx\", dataset['date'].apply(get_eurostoxx))\n",
        "\n",
        "dataset = dataset.drop('date', axis=1)\n",
        "dataset.columns"
      ],
      "execution_count": 10,
      "outputs": [
        {
          "output_type": "execute_result",
          "data": {
            "text/plain": [
              "Index(['age', 'marital_status', 'education', 'job', 'credit_default',\n",
              "       'housing_loan', 'personal_loan', 'communication_type',\n",
              "       'n_contacts_campaign', 'days_since_last_contact', 'n_contacts_before',\n",
              "       'previous_conversion', 'duration', 'weekday', 'day', 'month', 'year',\n",
              "       'quarter', 'leitzins', 'euribor', 'cci', 'cpi', 'fsi', 'eurostoxx',\n",
              "       'success'],\n",
              "      dtype='object')"
            ]
          },
          "metadata": {
            "tags": []
          },
          "execution_count": 10
        }
      ]
    },
    {
      "cell_type": "code",
      "metadata": {
        "id": "chldv7-yEP04",
        "colab_type": "code",
        "colab": {}
      },
      "source": [
        "X, y = dataset[['month', 'education', 'job', 'age', 'previous_conversion', 'n_contacts_before',\n",
        "       'days_since_last_contact', 'leitzins', 'euribor', 'n_contacts_campaign', 'marital_status',\n",
        "       'credit_default', 'duration', 'housing_loan', 'cpi', 'cci', 'eurostoxx', 'fsi']], dataset['success']\n",
        "y = y.apply(lambda x: 1 if x == \"Yes\" else 0)\n",
        "\n",
        "#X = X[(X['job'] != 'Unknown')]\n",
        "\n",
        "X['education'] = X['education'].apply(group_education)\n",
        "X['job'] = X['job'].apply(group_job)\n",
        "X['previous_conversion'] = X['previous_conversion'].apply(group_p_conv)\n",
        "X['marital_status'] = X['marital_status'].apply(group_martial_status)\n",
        "X['age'] = X['age'].apply(group_age_q) # group_age_q == quantile\n",
        "\n",
        "# X['duration'] = X['duration'].apply(group_duration)\n",
        "\n",
        "for item in ['education', 'job', 'previous_conversion',\n",
        "             'credit_default', 'housing_loan']:\n",
        "  try:\n",
        "    encoded = pd.get_dummies(X[item], prefix=item)\n",
        "    X.drop(item, axis=1, inplace=True)\n",
        "    X = X.join(encoded)\n",
        "  except:\n",
        "    continue\n",
        "\n",
        "scaler = MinMaxScaler()\n",
        "numeric_values = [\"leitzins\", \"euribor\", 'cpi', 'cci', 'n_contacts_campaign',\n",
        "                  'n_contacts_before', 'duration', 'days_since_last_contact',\n",
        "                  'eurostoxx', 'fsi']\n",
        "\n",
        "X[numeric_values] = scaler.fit_transform(X[numeric_values])"
      ],
      "execution_count": 0,
      "outputs": []
    },
    {
      "cell_type": "markdown",
      "metadata": {
        "id": "SaWaBHj84ERk",
        "colab_type": "text"
      },
      "source": [
        "# XGBoost"
      ]
    },
    {
      "cell_type": "code",
      "metadata": {
        "id": "zU_t6wKyQFPM",
        "colab_type": "code",
        "outputId": "f8aa67d0-6ec7-4bf1-9eec-e247bb25e0be",
        "colab": {
          "base_uri": "https://localhost:8080/",
          "height": 153
        }
      },
      "source": [
        "hyperparams = {'seed': 1909, 'learning_rate': 0.01, 'min_child_weight': 0.8, 'scale_pos_weight': 8, \n",
        "               'colsample_bylevel': 0.75, 'colsample_bytree': 0.65, 'colsample_bynode': 0.75, 'max_depth': 50, \n",
        "               'n_estimators': 100, 'gamma': 0.95, 'subsample': 0.25, 'base_score': 0.5, 'reg_lambda': 1, \n",
        "               'nthread': -1, 'booster': 'gbtree', 'objective': 'binary:logistic', 'silent': True, \n",
        "               'missing': None, 'max_delta_step': 0}\n",
        "\n",
        "\n",
        "\n",
        "model = XGBClassifier(**hyperparams)\n",
        "model.fit(X, y)\n",
        "print(model)\n",
        "res_cv = cross_validate(model, X, y, scoring=['f1', 'accuracy', 'precision'], cv=10, return_train_score=True)\n",
        "res_f1_tr = np.mean(res_cv['train_f1']) * 100\n",
        "res_f1_te = np.mean(res_cv['test_f1']) * 100\n",
        "print(f'Average F1 on Training and Test Set: {res_f1_tr:.2f}%/{res_f1_te:.2f}%')\n",
        "\n",
        "# persists results for later analysis\n",
        "\n",
        "resultJSON = {\n",
        "    \"date\": dt.datetime.now().strftime(\"%d.%m.%Y, %H:%M:%S\"),\n",
        "    \"result\": f'{res_f1_tr:.2f}/{res_f1_te:.2f}',\n",
        "    \"hyperparams\": hyperparams\n",
        "}\n",
        "\n",
        "with open(mountpath + '/My Drive/seminararbeit/results-30-01.txt', 'a') as file:\n",
        "  file.write(str(resultJSON) + '\\n')"
      ],
      "execution_count": 12,
      "outputs": [
        {
          "output_type": "stream",
          "text": [
            "XGBClassifier(base_score=0.5, booster='gbtree', colsample_bylevel=0.75,\n",
            "              colsample_bynode=0.75, colsample_bytree=0.65, gamma=0.95,\n",
            "              learning_rate=0.01, max_delta_step=0, max_depth=50,\n",
            "              min_child_weight=0.8, missing=None, n_estimators=100, n_jobs=1,\n",
            "              nthread=-1, objective='binary:logistic', random_state=0,\n",
            "              reg_alpha=0, reg_lambda=1, scale_pos_weight=8, seed=1909,\n",
            "              silent=True, subsample=0.25, verbosity=1)\n",
            "Average F1 on Training and Test Set: 69.80%/63.10%\n"
          ],
          "name": "stdout"
        }
      ]
    },
    {
      "cell_type": "code",
      "metadata": {
        "id": "s5C8ncl1bttg",
        "colab_type": "code",
        "outputId": "b305f7aa-8cb7-4199-ab5c-79d6eff66219",
        "colab": {
          "base_uri": "https://localhost:8080/",
          "height": 238
        }
      },
      "source": [
        "X_train, X_test, y_train, y_test = train_test_split(X, y, test_size = 0.2, random_state = 1909)\n",
        "\n",
        "xgb = XGBClassifier()\n",
        "xgb.fit(X_train, y_train)\n",
        "xgbprd = xgb.predict(X_test)\n",
        "\n",
        "print(confusion_matrix(y_test, xgbprd))\n",
        "print(round(f1_score(y_test, xgbprd),2)*100)\n",
        "XGB = (cross_val_score(estimator = xgb, X = X_train, y = y_train, cv = 10).mean())\n",
        "print(XGB)\n",
        "print(classification_report(y_test, xgbprd))"
      ],
      "execution_count": 13,
      "outputs": [
        {
          "output_type": "stream",
          "text": [
            "[[6341  215]\n",
            " [ 430  428]]\n",
            "56.99999999999999\n",
            "0.9141797368489877\n",
            "              precision    recall  f1-score   support\n",
            "\n",
            "           0       0.94      0.97      0.95      6556\n",
            "           1       0.67      0.50      0.57       858\n",
            "\n",
            "    accuracy                           0.91      7414\n",
            "   macro avg       0.80      0.73      0.76      7414\n",
            "weighted avg       0.91      0.91      0.91      7414\n",
            "\n"
          ],
          "name": "stdout"
        }
      ]
    }
  ]
}